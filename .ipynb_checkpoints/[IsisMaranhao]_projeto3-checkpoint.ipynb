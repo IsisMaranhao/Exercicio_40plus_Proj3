{
 "cells": [
  {
   "cell_type": "code",
   "execution_count": 1,
   "id": "32490750",
   "metadata": {},
   "outputs": [],
   "source": [
    "def rio(matrix, linha, coluna):\n",
    "\n",
    "    tamanho = 1\n",
    "\n",
    "    if linha+1 < len(matrix) and matrix[linha+1][coluna] == 1:\n",
    "        matrix[linha+1][coluna] = 2\n",
    "        tamanho += rio(matrix, linha+1, coluna)\n",
    "\n",
    "    if linha-1 >= 0 and matrix[linha-1][coluna] == 1:\n",
    "        matrix[linha-1][coluna] = 2\n",
    "        tamanho += rio(matrix, linha-1, coluna)\n",
    "\n",
    "    if coluna+1 < len(matrix[linha]) and matrix[linha][coluna+1] == 1:\n",
    "        matrix[linha][coluna+1] = 2\n",
    "        tamanho += rio(matrix, linha, coluna+1)\n",
    "\n",
    "    if coluna-1 >= 0 and matrix[linha][coluna-1] == 1:\n",
    "        matrix[linha][coluna-1] = 2\n",
    "        tamanho += rio(matrix, linha, coluna-1)\n",
    "\n",
    "    return tamanho"
   ]
  },
  {
   "cell_type": "code",
   "execution_count": 2,
   "id": "6ec9ee72",
   "metadata": {},
   "outputs": [],
   "source": [
    "matrix = [\n",
    "    [1, 0, 0, 1, 0],\n",
    "    [1, 0, 1, 0, 0],\n",
    "    [0, 0, 1, 0, 1],\n",
    "    [1, 0, 1, 0, 1],\n",
    "    [1, 0, 1, 1, 0],\n",
    "]"
   ]
  },
  {
   "cell_type": "code",
   "execution_count": 3,
   "id": "d8a8a866",
   "metadata": {},
   "outputs": [],
   "source": [
    "def obter_tamanho(matrix):\n",
    "    linhas = len(matrix)\n",
    "    colunas = len(matrix[0])\n",
    "    \n",
    "    return linhas, colunas"
   ]
  },
  {
   "cell_type": "code",
   "execution_count": 4,
   "id": "b60e4db8",
   "metadata": {},
   "outputs": [
    {
     "name": "stdout",
     "output_type": "stream",
     "text": [
      "(5, 5)\n"
     ]
    }
   ],
   "source": [
    "print(obter_tamanho(matrix))"
   ]
  },
  {
   "cell_type": "code",
   "execution_count": 5,
   "id": "b836731c",
   "metadata": {},
   "outputs": [],
   "source": [
    "tamanhoRios = []"
   ]
  },
  {
   "cell_type": "code",
   "execution_count": 6,
   "id": "43fbc646",
   "metadata": {},
   "outputs": [],
   "source": [
    "for i in range(len(matrix)):\n",
    "    for j in range(len(matrix[i])):\n",
    "        if (matrix[i][j] == 1):\n",
    "            matrix[i][j] = 2\n",
    "            tamanhoRios.append(rio(matrix,i,j))"
   ]
  },
  {
   "cell_type": "code",
   "execution_count": 7,
   "id": "941b678f",
   "metadata": {},
   "outputs": [
    {
     "name": "stdout",
     "output_type": "stream",
     "text": [
      "[2, 1, 5, 2, 2]\n"
     ]
    }
   ],
   "source": [
    "print(tamanhoRios)"
   ]
  },
  {
   "cell_type": "code",
   "execution_count": null,
   "id": "b1b7e610",
   "metadata": {},
   "outputs": [],
   "source": []
  }
 ],
 "metadata": {
  "kernelspec": {
   "display_name": "Python 3 (ipykernel)",
   "language": "python",
   "name": "python3"
  },
  "language_info": {
   "codemirror_mode": {
    "name": "ipython",
    "version": 3
   },
   "file_extension": ".py",
   "mimetype": "text/x-python",
   "name": "python",
   "nbconvert_exporter": "python",
   "pygments_lexer": "ipython3",
   "version": "3.9.7"
  }
 },
 "nbformat": 4,
 "nbformat_minor": 5
}
